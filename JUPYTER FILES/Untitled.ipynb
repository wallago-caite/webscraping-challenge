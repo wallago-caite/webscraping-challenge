{
 "cells": [
  {
   "cell_type": "code",
   "execution_count": 2,
   "id": "d44e52d7-9e60-4ef2-976f-6ebb57d68586",
   "metadata": {},
   "outputs": [],
   "source": [
    "import splinter\n",
    "from splinter import Browser\n",
    "import bs4\n",
    "from bs4 import BeautifulSoup"
   ]
  },
  {
   "cell_type": "code",
   "execution_count": 3,
   "id": "c2033705-bc1b-40fc-b139-1c0fd0715e68",
   "metadata": {},
   "outputs": [],
   "source": [
    "browser = Browser(\"chrome\")"
   ]
  },
  {
   "cell_type": "code",
   "execution_count": 5,
   "id": "fe265131-b0ab-4715-a95d-e7ea357b8cb5",
   "metadata": {},
   "outputs": [],
   "source": [
    "url = \"https://stackoverflow.com/questions/tagged/python?sort=MostVotes&edited=true\""
   ]
  },
  {
   "cell_type": "code",
   "execution_count": 6,
   "id": "56aa2901-055f-4dc5-b640-0d7f430195a2",
   "metadata": {},
   "outputs": [],
   "source": [
    "browser.visit(url)"
   ]
  },
  {
   "cell_type": "code",
   "execution_count": null,
   "id": "4a58a02f-93d7-4a29-9cbd-64b5a818250c",
   "metadata": {},
   "outputs": [],
   "source": [
    "html = "
   ]
  },
  {
   "cell_type": "code",
   "execution_count": null,
   "id": "6c9a9913-4a5b-46ce-8fb9-c3b7bda40ce7",
   "metadata": {},
   "outputs": [],
   "source": []
  }
 ],
 "metadata": {
  "kernelspec": {
   "display_name": "Python 3 (ipykernel)",
   "language": "python",
   "name": "python3"
  },
  "language_info": {
   "codemirror_mode": {
    "name": "ipython",
    "version": 3
   },
   "file_extension": ".py",
   "mimetype": "text/x-python",
   "name": "python",
   "nbconvert_exporter": "python",
   "pygments_lexer": "ipython3",
   "version": "3.11.7"
  }
 },
 "nbformat": 4,
 "nbformat_minor": 5
}
